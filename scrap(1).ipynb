{
  "nbformat": 4,
  "nbformat_minor": 0,
  "metadata": {
    "colab": {
      "provenance": [],
      "collapsed_sections": [
        "dWWx-mkQZq6k",
        "8GhuHSE4MMwq",
        "wxODwOZeMFDN",
        "CBSvjsZdOCIM",
        "CO0GGNAtF9j5",
        "Ag74I6L8nX86",
        "UJDqyRJ_Cy1k",
        "NuXlXIf2MjvF",
        "vgGQuV-yqYZH"
      ]
    },
    "kernelspec": {
      "display_name": "Python 3",
      "name": "python3"
    },
    "gpuClass": "standard"
  },
  "cells": [
    {
      "cell_type": "markdown",
      "metadata": {
        "id": "RSYwDHfU8Zfh"
      },
      "source": [
        "#**Import** **necessary** **packages**"
      ]
    },
    {
      "cell_type": "code",
      "metadata": {
        "id": "DkdPbKF_ZmMl",
        "colab": {
          "base_uri": "https://localhost:8080/"
        },
        "outputId": "f5871020-8c87-4c1e-b7c5-481e6ed67d7a"
      },
      "source": [
        "!pip install livelossplot"
      ],
      "execution_count": 48,
      "outputs": [
        {
          "output_type": "stream",
          "name": "stdout",
          "text": [
            "Looking in indexes: https://pypi.org/simple, https://us-python.pkg.dev/colab-wheels/public/simple/\n",
            "Requirement already satisfied: livelossplot in /usr/local/lib/python3.8/dist-packages (0.5.5)\n",
            "Requirement already satisfied: matplotlib in /usr/local/lib/python3.8/dist-packages (from livelossplot) (3.2.2)\n",
            "Requirement already satisfied: bokeh in /usr/local/lib/python3.8/dist-packages (from livelossplot) (2.3.3)\n",
            "Requirement already satisfied: numpy>=1.11.3 in /usr/local/lib/python3.8/dist-packages (from bokeh->livelossplot) (1.21.6)\n",
            "Requirement already satisfied: tornado>=5.1 in /usr/local/lib/python3.8/dist-packages (from bokeh->livelossplot) (6.0.4)\n",
            "Requirement already satisfied: packaging>=16.8 in /usr/local/lib/python3.8/dist-packages (from bokeh->livelossplot) (21.3)\n",
            "Requirement already satisfied: Jinja2>=2.9 in /usr/local/lib/python3.8/dist-packages (from bokeh->livelossplot) (2.11.3)\n",
            "Requirement already satisfied: typing-extensions>=3.7.4 in /usr/local/lib/python3.8/dist-packages (from bokeh->livelossplot) (4.1.1)\n",
            "Requirement already satisfied: python-dateutil>=2.1 in /usr/local/lib/python3.8/dist-packages (from bokeh->livelossplot) (2.8.2)\n",
            "Requirement already satisfied: PyYAML>=3.10 in /usr/local/lib/python3.8/dist-packages (from bokeh->livelossplot) (6.0)\n",
            "Requirement already satisfied: pillow>=7.1.0 in /usr/local/lib/python3.8/dist-packages (from bokeh->livelossplot) (7.1.2)\n",
            "Requirement already satisfied: MarkupSafe>=0.23 in /usr/local/lib/python3.8/dist-packages (from Jinja2>=2.9->bokeh->livelossplot) (2.0.1)\n",
            "Requirement already satisfied: pyparsing!=3.0.5,>=2.0.2 in /usr/local/lib/python3.8/dist-packages (from packaging>=16.8->bokeh->livelossplot) (3.0.9)\n",
            "Requirement already satisfied: six>=1.5 in /usr/local/lib/python3.8/dist-packages (from python-dateutil>=2.1->bokeh->livelossplot) (1.15.0)\n",
            "Requirement already satisfied: kiwisolver>=1.0.1 in /usr/local/lib/python3.8/dist-packages (from matplotlib->livelossplot) (1.4.4)\n",
            "Requirement already satisfied: cycler>=0.10 in /usr/local/lib/python3.8/dist-packages (from matplotlib->livelossplot) (0.11.0)\n"
          ]
        }
      ]
    },
    {
      "cell_type": "code",
      "metadata": {
        "id": "aZVq9uz6nFjK"
      },
      "source": [
        "import random\n",
        "\n",
        "random.seed(42)"
      ],
      "execution_count": 49,
      "outputs": []
    },
    {
      "cell_type": "code",
      "metadata": {
        "id": "MlW0GEz88ZCu",
        "colab": {
          "base_uri": "https://localhost:8080/"
        },
        "outputId": "a606c38c-302a-4ae0-b3bb-110a3cb15e07"
      },
      "source": [
        "from livelossplot import PlotLossesKeras\n",
        "import matplotlib.pyplot as plt\n",
        "import numpy as np\n",
        "import pandas as pd\n",
        "import seaborn as sns\n",
        "from tensorflow.keras.models import Model\n",
        "from tensorflow.keras.layers import Dense, Input\n",
        "\n",
        "\n",
        "# Make numpy printouts easier to read.\n",
        "np.set_printoptions(precision=3, suppress=True)\n",
        "import tensorflow as tf\n",
        "\n",
        "from tensorflow import keras\n",
        "from tensorflow.keras import layers\n",
        "from tensorflow.keras.layers.experimental import preprocessing\n",
        "\n",
        "print(tf.__version__)"
      ],
      "execution_count": 50,
      "outputs": [
        {
          "output_type": "stream",
          "name": "stdout",
          "text": [
            "2.9.2\n"
          ]
        }
      ]
    },
    {
      "cell_type": "markdown",
      "metadata": {
        "id": "owZUWvLH8lMo"
      },
      "source": [
        "#**Import dataset**"
      ]
    },
    {
      "cell_type": "code",
      "metadata": {
        "id": "izq7RASC8rYO",
        "colab": {
          "base_uri": "https://localhost:8080/"
        },
        "outputId": "42f3eb31-b4b5-4d52-93ad-9060d05255af"
      },
      "source": [
        "data = pd.read_excel('/content/new.xlsx')\n",
        "data.shape"
      ],
      "execution_count": 51,
      "outputs": [
        {
          "output_type": "execute_result",
          "data": {
            "text/plain": [
              "(335, 9)"
            ]
          },
          "metadata": {},
          "execution_count": 51
        }
      ]
    },
    {
      "cell_type": "code",
      "metadata": {
        "id": "BLD6t8ttuUC7",
        "colab": {
          "base_uri": "https://localhost:8080/",
          "height": 424
        },
        "outputId": "aeb4308b-2b2a-4334-e56a-91c9d6824192"
      },
      "source": [
        "dataset = data.sample(frac=1)\n",
        "dataset\n",
        "#dataset.to_excel('sample.xls')"
      ],
      "execution_count": 52,
      "outputs": [
        {
          "output_type": "execute_result",
          "data": {
            "text/plain": [
              "              Ship_Type  Length  Breadth  Depth  Draft      LDT      GRT  \\\n",
              "94     Conaitner vessel  148.66     21.0    NaN   10.9   5428.3   9764.0   \n",
              "296        Bulk carrier  216.68     32.2    NaN   20.4  12962.0  40698.0   \n",
              "271        Bulk carrier  172.20     26.0    NaN    8.5   6141.0  18430.0   \n",
              "201    Conaitner vessel  245.00     32.0    NaN   10.1  14986.0  37549.0   \n",
              "240    Conaitner vessel  163.38     27.5    NaN    5.0   6698.0  16270.0   \n",
              "..                  ...     ...      ...    ...    ...      ...      ...   \n",
              "167    Conaitner vessel  294.03     32.2    NaN   17.4  22144.0  53359.0   \n",
              "53     Conaitner vessel  182.07     28.4    NaN   15.6   8570.0  21034.0   \n",
              "163        Bulk carrier  215.43     32.2    5.0    5.0  11994.0  35119.0   \n",
              "108  Heavy Load carrier  123.40     24.4    NaN    5.0   5219.0  12124.0   \n",
              "64        General cargo   91.70     18.0    5.0    5.0   2304.0   5464.0   \n",
              "\n",
              "         NRT      BHP  \n",
              "94    3716.0   7500.0  \n",
              "296  20133.0   7600.0  \n",
              "271  10685.0  10685.0  \n",
              "201  20274.0      NaN  \n",
              "240   9476.0  13125.0  \n",
              "..       ...      ...  \n",
              "167   2961.0  34421.0  \n",
              "53   11783.0   9000.0  \n",
              "163  20984.0  13500.0  \n",
              "108   3637.0   6265.0  \n",
              "64    2262.0   3300.0  \n",
              "\n",
              "[335 rows x 9 columns]"
            ],
            "text/html": [
              "\n",
              "  <div id=\"df-e1670235-ebbd-49fc-8786-35994e59fb94\">\n",
              "    <div class=\"colab-df-container\">\n",
              "      <div>\n",
              "<style scoped>\n",
              "    .dataframe tbody tr th:only-of-type {\n",
              "        vertical-align: middle;\n",
              "    }\n",
              "\n",
              "    .dataframe tbody tr th {\n",
              "        vertical-align: top;\n",
              "    }\n",
              "\n",
              "    .dataframe thead th {\n",
              "        text-align: right;\n",
              "    }\n",
              "</style>\n",
              "<table border=\"1\" class=\"dataframe\">\n",
              "  <thead>\n",
              "    <tr style=\"text-align: right;\">\n",
              "      <th></th>\n",
              "      <th>Ship_Type</th>\n",
              "      <th>Length</th>\n",
              "      <th>Breadth</th>\n",
              "      <th>Depth</th>\n",
              "      <th>Draft</th>\n",
              "      <th>LDT</th>\n",
              "      <th>GRT</th>\n",
              "      <th>NRT</th>\n",
              "      <th>BHP</th>\n",
              "    </tr>\n",
              "  </thead>\n",
              "  <tbody>\n",
              "    <tr>\n",
              "      <th>94</th>\n",
              "      <td>Conaitner vessel</td>\n",
              "      <td>148.66</td>\n",
              "      <td>21.0</td>\n",
              "      <td>NaN</td>\n",
              "      <td>10.9</td>\n",
              "      <td>5428.3</td>\n",
              "      <td>9764.0</td>\n",
              "      <td>3716.0</td>\n",
              "      <td>7500.0</td>\n",
              "    </tr>\n",
              "    <tr>\n",
              "      <th>296</th>\n",
              "      <td>Bulk carrier</td>\n",
              "      <td>216.68</td>\n",
              "      <td>32.2</td>\n",
              "      <td>NaN</td>\n",
              "      <td>20.4</td>\n",
              "      <td>12962.0</td>\n",
              "      <td>40698.0</td>\n",
              "      <td>20133.0</td>\n",
              "      <td>7600.0</td>\n",
              "    </tr>\n",
              "    <tr>\n",
              "      <th>271</th>\n",
              "      <td>Bulk carrier</td>\n",
              "      <td>172.20</td>\n",
              "      <td>26.0</td>\n",
              "      <td>NaN</td>\n",
              "      <td>8.5</td>\n",
              "      <td>6141.0</td>\n",
              "      <td>18430.0</td>\n",
              "      <td>10685.0</td>\n",
              "      <td>10685.0</td>\n",
              "    </tr>\n",
              "    <tr>\n",
              "      <th>201</th>\n",
              "      <td>Conaitner vessel</td>\n",
              "      <td>245.00</td>\n",
              "      <td>32.0</td>\n",
              "      <td>NaN</td>\n",
              "      <td>10.1</td>\n",
              "      <td>14986.0</td>\n",
              "      <td>37549.0</td>\n",
              "      <td>20274.0</td>\n",
              "      <td>NaN</td>\n",
              "    </tr>\n",
              "    <tr>\n",
              "      <th>240</th>\n",
              "      <td>Conaitner vessel</td>\n",
              "      <td>163.38</td>\n",
              "      <td>27.5</td>\n",
              "      <td>NaN</td>\n",
              "      <td>5.0</td>\n",
              "      <td>6698.0</td>\n",
              "      <td>16270.0</td>\n",
              "      <td>9476.0</td>\n",
              "      <td>13125.0</td>\n",
              "    </tr>\n",
              "    <tr>\n",
              "      <th>...</th>\n",
              "      <td>...</td>\n",
              "      <td>...</td>\n",
              "      <td>...</td>\n",
              "      <td>...</td>\n",
              "      <td>...</td>\n",
              "      <td>...</td>\n",
              "      <td>...</td>\n",
              "      <td>...</td>\n",
              "      <td>...</td>\n",
              "    </tr>\n",
              "    <tr>\n",
              "      <th>167</th>\n",
              "      <td>Conaitner vessel</td>\n",
              "      <td>294.03</td>\n",
              "      <td>32.2</td>\n",
              "      <td>NaN</td>\n",
              "      <td>17.4</td>\n",
              "      <td>22144.0</td>\n",
              "      <td>53359.0</td>\n",
              "      <td>2961.0</td>\n",
              "      <td>34421.0</td>\n",
              "    </tr>\n",
              "    <tr>\n",
              "      <th>53</th>\n",
              "      <td>Conaitner vessel</td>\n",
              "      <td>182.07</td>\n",
              "      <td>28.4</td>\n",
              "      <td>NaN</td>\n",
              "      <td>15.6</td>\n",
              "      <td>8570.0</td>\n",
              "      <td>21034.0</td>\n",
              "      <td>11783.0</td>\n",
              "      <td>9000.0</td>\n",
              "    </tr>\n",
              "    <tr>\n",
              "      <th>163</th>\n",
              "      <td>Bulk carrier</td>\n",
              "      <td>215.43</td>\n",
              "      <td>32.2</td>\n",
              "      <td>5.0</td>\n",
              "      <td>5.0</td>\n",
              "      <td>11994.0</td>\n",
              "      <td>35119.0</td>\n",
              "      <td>20984.0</td>\n",
              "      <td>13500.0</td>\n",
              "    </tr>\n",
              "    <tr>\n",
              "      <th>108</th>\n",
              "      <td>Heavy Load carrier</td>\n",
              "      <td>123.40</td>\n",
              "      <td>24.4</td>\n",
              "      <td>NaN</td>\n",
              "      <td>5.0</td>\n",
              "      <td>5219.0</td>\n",
              "      <td>12124.0</td>\n",
              "      <td>3637.0</td>\n",
              "      <td>6265.0</td>\n",
              "    </tr>\n",
              "    <tr>\n",
              "      <th>64</th>\n",
              "      <td>General cargo</td>\n",
              "      <td>91.70</td>\n",
              "      <td>18.0</td>\n",
              "      <td>5.0</td>\n",
              "      <td>5.0</td>\n",
              "      <td>2304.0</td>\n",
              "      <td>5464.0</td>\n",
              "      <td>2262.0</td>\n",
              "      <td>3300.0</td>\n",
              "    </tr>\n",
              "  </tbody>\n",
              "</table>\n",
              "<p>335 rows × 9 columns</p>\n",
              "</div>\n",
              "      <button class=\"colab-df-convert\" onclick=\"convertToInteractive('df-e1670235-ebbd-49fc-8786-35994e59fb94')\"\n",
              "              title=\"Convert this dataframe to an interactive table.\"\n",
              "              style=\"display:none;\">\n",
              "        \n",
              "  <svg xmlns=\"http://www.w3.org/2000/svg\" height=\"24px\"viewBox=\"0 0 24 24\"\n",
              "       width=\"24px\">\n",
              "    <path d=\"M0 0h24v24H0V0z\" fill=\"none\"/>\n",
              "    <path d=\"M18.56 5.44l.94 2.06.94-2.06 2.06-.94-2.06-.94-.94-2.06-.94 2.06-2.06.94zm-11 1L8.5 8.5l.94-2.06 2.06-.94-2.06-.94L8.5 2.5l-.94 2.06-2.06.94zm10 10l.94 2.06.94-2.06 2.06-.94-2.06-.94-.94-2.06-.94 2.06-2.06.94z\"/><path d=\"M17.41 7.96l-1.37-1.37c-.4-.4-.92-.59-1.43-.59-.52 0-1.04.2-1.43.59L10.3 9.45l-7.72 7.72c-.78.78-.78 2.05 0 2.83L4 21.41c.39.39.9.59 1.41.59.51 0 1.02-.2 1.41-.59l7.78-7.78 2.81-2.81c.8-.78.8-2.07 0-2.86zM5.41 20L4 18.59l7.72-7.72 1.47 1.35L5.41 20z\"/>\n",
              "  </svg>\n",
              "      </button>\n",
              "      \n",
              "  <style>\n",
              "    .colab-df-container {\n",
              "      display:flex;\n",
              "      flex-wrap:wrap;\n",
              "      gap: 12px;\n",
              "    }\n",
              "\n",
              "    .colab-df-convert {\n",
              "      background-color: #E8F0FE;\n",
              "      border: none;\n",
              "      border-radius: 50%;\n",
              "      cursor: pointer;\n",
              "      display: none;\n",
              "      fill: #1967D2;\n",
              "      height: 32px;\n",
              "      padding: 0 0 0 0;\n",
              "      width: 32px;\n",
              "    }\n",
              "\n",
              "    .colab-df-convert:hover {\n",
              "      background-color: #E2EBFA;\n",
              "      box-shadow: 0px 1px 2px rgba(60, 64, 67, 0.3), 0px 1px 3px 1px rgba(60, 64, 67, 0.15);\n",
              "      fill: #174EA6;\n",
              "    }\n",
              "\n",
              "    [theme=dark] .colab-df-convert {\n",
              "      background-color: #3B4455;\n",
              "      fill: #D2E3FC;\n",
              "    }\n",
              "\n",
              "    [theme=dark] .colab-df-convert:hover {\n",
              "      background-color: #434B5C;\n",
              "      box-shadow: 0px 1px 3px 1px rgba(0, 0, 0, 0.15);\n",
              "      filter: drop-shadow(0px 1px 2px rgba(0, 0, 0, 0.3));\n",
              "      fill: #FFFFFF;\n",
              "    }\n",
              "  </style>\n",
              "\n",
              "      <script>\n",
              "        const buttonEl =\n",
              "          document.querySelector('#df-e1670235-ebbd-49fc-8786-35994e59fb94 button.colab-df-convert');\n",
              "        buttonEl.style.display =\n",
              "          google.colab.kernel.accessAllowed ? 'block' : 'none';\n",
              "\n",
              "        async function convertToInteractive(key) {\n",
              "          const element = document.querySelector('#df-e1670235-ebbd-49fc-8786-35994e59fb94');\n",
              "          const dataTable =\n",
              "            await google.colab.kernel.invokeFunction('convertToInteractive',\n",
              "                                                     [key], {});\n",
              "          if (!dataTable) return;\n",
              "\n",
              "          const docLinkHtml = 'Like what you see? Visit the ' +\n",
              "            '<a target=\"_blank\" href=https://colab.research.google.com/notebooks/data_table.ipynb>data table notebook</a>'\n",
              "            + ' to learn more about interactive tables.';\n",
              "          element.innerHTML = '';\n",
              "          dataTable['output_type'] = 'display_data';\n",
              "          await google.colab.output.renderOutput(dataTable, element);\n",
              "          const docLink = document.createElement('div');\n",
              "          docLink.innerHTML = docLinkHtml;\n",
              "          element.appendChild(docLink);\n",
              "        }\n",
              "      </script>\n",
              "    </div>\n",
              "  </div>\n",
              "  "
            ]
          },
          "metadata": {},
          "execution_count": 52
        }
      ]
    },
    {
      "cell_type": "markdown",
      "metadata": {
        "id": "1Po0Axk886k_"
      },
      "source": [
        "#**Clean the dataset (CL)**"
      ]
    },
    {
      "cell_type": "code",
      "metadata": {
        "id": "XiHAAKFxIyhc",
        "colab": {
          "base_uri": "https://localhost:8080/",
          "height": 424
        },
        "outputId": "a843aab2-9854-4567-b9fb-8193db98a164"
      },
      "source": [
        "dataset = data[['Length','Breadth', 'Draft', 'LDT', 'GRT', 'NRT', 'BHP']].copy()\n",
        "dataset"
      ],
      "execution_count": 53,
      "outputs": [
        {
          "output_type": "execute_result",
          "data": {
            "text/plain": [
              "     Length  Breadth  Draft       LDT       GRT      NRT      BHP\n",
              "0    298.38    50.00   6.00   25571.0  101466.0  63093.0  12022.0\n",
              "1    178.96    25.30   5.00   10827.0   21142.0  11505.0   8058.0\n",
              "2    247.05    41.60  17.21   18599.0   53383.0  32574.0      NaN\n",
              "3    112.40    17.60   5.00    2764.0    4962.0   2972.0   4100.0\n",
              "4    111.46    20.80  10.40    3595.0    7017.0   3371.0   5440.0\n",
              "..      ...      ...    ...       ...       ...      ...      ...\n",
              "330  215.57    38.00   5.00   10222.0   38131.0  24124.0   9000.0\n",
              "331  181.70    26.21  16.08    9058.0   22540.0  13020.0  12000.0\n",
              "332  121.90    19.60   8.30    3581.0    5850.0   3011.0   3400.0\n",
              "333  180.51    31.00   5.00    7472.0   23826.0  12793.0   8933.0\n",
              "334  311.77    56.00  29.50  345000.0  142647.0  76891.0  22110.0\n",
              "\n",
              "[335 rows x 7 columns]"
            ],
            "text/html": [
              "\n",
              "  <div id=\"df-d173633a-38ff-4f6a-8694-5e3b3c3bcbc4\">\n",
              "    <div class=\"colab-df-container\">\n",
              "      <div>\n",
              "<style scoped>\n",
              "    .dataframe tbody tr th:only-of-type {\n",
              "        vertical-align: middle;\n",
              "    }\n",
              "\n",
              "    .dataframe tbody tr th {\n",
              "        vertical-align: top;\n",
              "    }\n",
              "\n",
              "    .dataframe thead th {\n",
              "        text-align: right;\n",
              "    }\n",
              "</style>\n",
              "<table border=\"1\" class=\"dataframe\">\n",
              "  <thead>\n",
              "    <tr style=\"text-align: right;\">\n",
              "      <th></th>\n",
              "      <th>Length</th>\n",
              "      <th>Breadth</th>\n",
              "      <th>Draft</th>\n",
              "      <th>LDT</th>\n",
              "      <th>GRT</th>\n",
              "      <th>NRT</th>\n",
              "      <th>BHP</th>\n",
              "    </tr>\n",
              "  </thead>\n",
              "  <tbody>\n",
              "    <tr>\n",
              "      <th>0</th>\n",
              "      <td>298.38</td>\n",
              "      <td>50.00</td>\n",
              "      <td>6.00</td>\n",
              "      <td>25571.0</td>\n",
              "      <td>101466.0</td>\n",
              "      <td>63093.0</td>\n",
              "      <td>12022.0</td>\n",
              "    </tr>\n",
              "    <tr>\n",
              "      <th>1</th>\n",
              "      <td>178.96</td>\n",
              "      <td>25.30</td>\n",
              "      <td>5.00</td>\n",
              "      <td>10827.0</td>\n",
              "      <td>21142.0</td>\n",
              "      <td>11505.0</td>\n",
              "      <td>8058.0</td>\n",
              "    </tr>\n",
              "    <tr>\n",
              "      <th>2</th>\n",
              "      <td>247.05</td>\n",
              "      <td>41.60</td>\n",
              "      <td>17.21</td>\n",
              "      <td>18599.0</td>\n",
              "      <td>53383.0</td>\n",
              "      <td>32574.0</td>\n",
              "      <td>NaN</td>\n",
              "    </tr>\n",
              "    <tr>\n",
              "      <th>3</th>\n",
              "      <td>112.40</td>\n",
              "      <td>17.60</td>\n",
              "      <td>5.00</td>\n",
              "      <td>2764.0</td>\n",
              "      <td>4962.0</td>\n",
              "      <td>2972.0</td>\n",
              "      <td>4100.0</td>\n",
              "    </tr>\n",
              "    <tr>\n",
              "      <th>4</th>\n",
              "      <td>111.46</td>\n",
              "      <td>20.80</td>\n",
              "      <td>10.40</td>\n",
              "      <td>3595.0</td>\n",
              "      <td>7017.0</td>\n",
              "      <td>3371.0</td>\n",
              "      <td>5440.0</td>\n",
              "    </tr>\n",
              "    <tr>\n",
              "      <th>...</th>\n",
              "      <td>...</td>\n",
              "      <td>...</td>\n",
              "      <td>...</td>\n",
              "      <td>...</td>\n",
              "      <td>...</td>\n",
              "      <td>...</td>\n",
              "      <td>...</td>\n",
              "    </tr>\n",
              "    <tr>\n",
              "      <th>330</th>\n",
              "      <td>215.57</td>\n",
              "      <td>38.00</td>\n",
              "      <td>5.00</td>\n",
              "      <td>10222.0</td>\n",
              "      <td>38131.0</td>\n",
              "      <td>24124.0</td>\n",
              "      <td>9000.0</td>\n",
              "    </tr>\n",
              "    <tr>\n",
              "      <th>331</th>\n",
              "      <td>181.70</td>\n",
              "      <td>26.21</td>\n",
              "      <td>16.08</td>\n",
              "      <td>9058.0</td>\n",
              "      <td>22540.0</td>\n",
              "      <td>13020.0</td>\n",
              "      <td>12000.0</td>\n",
              "    </tr>\n",
              "    <tr>\n",
              "      <th>332</th>\n",
              "      <td>121.90</td>\n",
              "      <td>19.60</td>\n",
              "      <td>8.30</td>\n",
              "      <td>3581.0</td>\n",
              "      <td>5850.0</td>\n",
              "      <td>3011.0</td>\n",
              "      <td>3400.0</td>\n",
              "    </tr>\n",
              "    <tr>\n",
              "      <th>333</th>\n",
              "      <td>180.51</td>\n",
              "      <td>31.00</td>\n",
              "      <td>5.00</td>\n",
              "      <td>7472.0</td>\n",
              "      <td>23826.0</td>\n",
              "      <td>12793.0</td>\n",
              "      <td>8933.0</td>\n",
              "    </tr>\n",
              "    <tr>\n",
              "      <th>334</th>\n",
              "      <td>311.77</td>\n",
              "      <td>56.00</td>\n",
              "      <td>29.50</td>\n",
              "      <td>345000.0</td>\n",
              "      <td>142647.0</td>\n",
              "      <td>76891.0</td>\n",
              "      <td>22110.0</td>\n",
              "    </tr>\n",
              "  </tbody>\n",
              "</table>\n",
              "<p>335 rows × 7 columns</p>\n",
              "</div>\n",
              "      <button class=\"colab-df-convert\" onclick=\"convertToInteractive('df-d173633a-38ff-4f6a-8694-5e3b3c3bcbc4')\"\n",
              "              title=\"Convert this dataframe to an interactive table.\"\n",
              "              style=\"display:none;\">\n",
              "        \n",
              "  <svg xmlns=\"http://www.w3.org/2000/svg\" height=\"24px\"viewBox=\"0 0 24 24\"\n",
              "       width=\"24px\">\n",
              "    <path d=\"M0 0h24v24H0V0z\" fill=\"none\"/>\n",
              "    <path d=\"M18.56 5.44l.94 2.06.94-2.06 2.06-.94-2.06-.94-.94-2.06-.94 2.06-2.06.94zm-11 1L8.5 8.5l.94-2.06 2.06-.94-2.06-.94L8.5 2.5l-.94 2.06-2.06.94zm10 10l.94 2.06.94-2.06 2.06-.94-2.06-.94-.94-2.06-.94 2.06-2.06.94z\"/><path d=\"M17.41 7.96l-1.37-1.37c-.4-.4-.92-.59-1.43-.59-.52 0-1.04.2-1.43.59L10.3 9.45l-7.72 7.72c-.78.78-.78 2.05 0 2.83L4 21.41c.39.39.9.59 1.41.59.51 0 1.02-.2 1.41-.59l7.78-7.78 2.81-2.81c.8-.78.8-2.07 0-2.86zM5.41 20L4 18.59l7.72-7.72 1.47 1.35L5.41 20z\"/>\n",
              "  </svg>\n",
              "      </button>\n",
              "      \n",
              "  <style>\n",
              "    .colab-df-container {\n",
              "      display:flex;\n",
              "      flex-wrap:wrap;\n",
              "      gap: 12px;\n",
              "    }\n",
              "\n",
              "    .colab-df-convert {\n",
              "      background-color: #E8F0FE;\n",
              "      border: none;\n",
              "      border-radius: 50%;\n",
              "      cursor: pointer;\n",
              "      display: none;\n",
              "      fill: #1967D2;\n",
              "      height: 32px;\n",
              "      padding: 0 0 0 0;\n",
              "      width: 32px;\n",
              "    }\n",
              "\n",
              "    .colab-df-convert:hover {\n",
              "      background-color: #E2EBFA;\n",
              "      box-shadow: 0px 1px 2px rgba(60, 64, 67, 0.3), 0px 1px 3px 1px rgba(60, 64, 67, 0.15);\n",
              "      fill: #174EA6;\n",
              "    }\n",
              "\n",
              "    [theme=dark] .colab-df-convert {\n",
              "      background-color: #3B4455;\n",
              "      fill: #D2E3FC;\n",
              "    }\n",
              "\n",
              "    [theme=dark] .colab-df-convert:hover {\n",
              "      background-color: #434B5C;\n",
              "      box-shadow: 0px 1px 3px 1px rgba(0, 0, 0, 0.15);\n",
              "      filter: drop-shadow(0px 1px 2px rgba(0, 0, 0, 0.3));\n",
              "      fill: #FFFFFF;\n",
              "    }\n",
              "  </style>\n",
              "\n",
              "      <script>\n",
              "        const buttonEl =\n",
              "          document.querySelector('#df-d173633a-38ff-4f6a-8694-5e3b3c3bcbc4 button.colab-df-convert');\n",
              "        buttonEl.style.display =\n",
              "          google.colab.kernel.accessAllowed ? 'block' : 'none';\n",
              "\n",
              "        async function convertToInteractive(key) {\n",
              "          const element = document.querySelector('#df-d173633a-38ff-4f6a-8694-5e3b3c3bcbc4');\n",
              "          const dataTable =\n",
              "            await google.colab.kernel.invokeFunction('convertToInteractive',\n",
              "                                                     [key], {});\n",
              "          if (!dataTable) return;\n",
              "\n",
              "          const docLinkHtml = 'Like what you see? Visit the ' +\n",
              "            '<a target=\"_blank\" href=https://colab.research.google.com/notebooks/data_table.ipynb>data table notebook</a>'\n",
              "            + ' to learn more about interactive tables.';\n",
              "          element.innerHTML = '';\n",
              "          dataTable['output_type'] = 'display_data';\n",
              "          await google.colab.output.renderOutput(dataTable, element);\n",
              "          const docLink = document.createElement('div');\n",
              "          docLink.innerHTML = docLinkHtml;\n",
              "          element.appendChild(docLink);\n",
              "        }\n",
              "      </script>\n",
              "    </div>\n",
              "  </div>\n",
              "  "
            ]
          },
          "metadata": {},
          "execution_count": 53
        }
      ]
    },
    {
      "cell_type": "code",
      "metadata": {
        "id": "EEVfU3cp9H7m",
        "colab": {
          "base_uri": "https://localhost:8080/"
        },
        "outputId": "16b53bda-d2b1-4183-a8b8-61523a8e471b"
      },
      "source": [
        "dataset.isnull().sum()"
      ],
      "execution_count": 54,
      "outputs": [
        {
          "output_type": "execute_result",
          "data": {
            "text/plain": [
              "Length      0\n",
              "Breadth     0\n",
              "Draft       0\n",
              "LDT         0\n",
              "GRT         0\n",
              "NRT         0\n",
              "BHP        23\n",
              "dtype: int64"
            ]
          },
          "metadata": {},
          "execution_count": 54
        }
      ]
    },
    {
      "cell_type": "code",
      "metadata": {
        "id": "wLd7I2yX6phl"
      },
      "source": [
        "dataset.dropna(inplace=True)"
      ],
      "execution_count": 55,
      "outputs": []
    },
    {
      "cell_type": "code",
      "source": [
        "dataset.isnull().sum()"
      ],
      "metadata": {
        "id": "xm1Sit8k7v1E",
        "colab": {
          "base_uri": "https://localhost:8080/"
        },
        "outputId": "f6c93cf7-7a07-4186-e764-5f2d45c9f760"
      },
      "execution_count": 56,
      "outputs": [
        {
          "output_type": "execute_result",
          "data": {
            "text/plain": [
              "Length     0\n",
              "Breadth    0\n",
              "Draft      0\n",
              "LDT        0\n",
              "GRT        0\n",
              "NRT        0\n",
              "BHP        0\n",
              "dtype: int64"
            ]
          },
          "metadata": {},
          "execution_count": 56
        }
      ]
    },
    {
      "cell_type": "markdown",
      "metadata": {
        "id": "boWLyZAd9Z2q"
      },
      "source": [
        "#**Inspect the data**"
      ]
    },
    {
      "cell_type": "markdown",
      "source": [
        "W.r.t Length"
      ],
      "metadata": {
        "id": "coWSde0AJ5tD"
      }
    },
    {
      "cell_type": "code",
      "metadata": {
        "id": "gvBQbijMHfF5",
        "colab": {
          "base_uri": "https://localhost:8080/",
          "height": 803
        },
        "outputId": "d35f3690-a338-4ea2-e8ce-f203b5c7182b"
      },
      "source": [
        "%matplotlib inline\n",
        "plt.xlabel('Length(L) m')\n",
        "plt.ylabel('LDT')\n",
        "plt.scatter(dataset.Length, dataset.LDT,color='red',marker='+')\n",
        "plt.show()\n",
        "\n",
        "plt.xlabel('Length(L) m')\n",
        "plt.ylabel('GRT')\n",
        "plt.scatter(dataset.Length, dataset.GRT,color='blue',marker='+')\n",
        "plt.show()\n",
        "\n",
        "plt.xlabel('Length(L) m')\n",
        "plt.ylabel('BHP')\n",
        "plt.scatter(dataset.Length, dataset.BHP,color='black',marker='+')\n",
        "plt.show()"
      ],
      "execution_count": 57,
      "outputs": [
        {
          "output_type": "display_data",
          "data": {
            "text/plain": [
              "<Figure size 432x288 with 1 Axes>"
            ],
            "image/png": "[encoded data removed]"
          },
          "metadata": {
            "needs_background": "light"
          }
        },
        {
          "output_type": "display_data",
          "data": {
            "text/plain": [
              "<Figure size 432x288 with 1 Axes>"
            ],
            "image/png": "[encoded data removed]"
          },
          "metadata": {
            "needs_background": "light"
          }
        },
        {
          "output_type": "display_data",
          "data": {
            "text/plain": [
              "<Figure size 432x288 with 1 Axes>"
            ],
            "image/png": "[encoded data removed]"
          },
          "metadata": {
            "needs_background": "light"
          }
        }
      ]
    },
    {
      "cell_type": "markdown",
      "source": [
        "W.r.t Breadth"
      ],
      "metadata": {
        "id": "BnHP2C0IJ-xW"
      }
    },
    {
      "cell_type": "code",
      "source": [
        "%matplotlib inline\n",
        "plt.xlabel('Breadth(B) m')\n",
        "plt.ylabel('LDT')\n",
        "plt.scatter(dataset.Breadth, dataset.LDT,color='red',marker='+')\n",
        "plt.show()\n",
        "\n",
        "plt.xlabel('Breadth(B) m')\n",
        "plt.ylabel('GRT')\n",
        "plt.scatter(dataset.Breadth, dataset.GRT,color='blue',marker='+')\n",
        "plt.show()\n",
        "\n",
        "plt.xlabel('Breadth(B) m')\n",
        "plt.ylabel('BHP')\n",
        "plt.scatter(dataset.Breadth, dataset.BHP,color='black',marker='+')\n",
        "plt.show()"
      ],
      "metadata": {
        "id": "11ScBZC_KAuV",
        "colab": {
          "base_uri": "https://localhost:8080/",
          "height": 803
        },
        "outputId": "d2f8991d-90ea-477d-ecdb-9710523e2320"
      },
      "execution_count": 58,
      "outputs": [
        {
          "output_type": "display_data",
          "data": {
            "text/plain": [
              "<Figure size 432x288 with 1 Axes>"
            ],
            "image/png": "[encoded data removed]"
          },
          "metadata": {
            "needs_background": "light"
          }
        },
        {
          "output_type": "display_data",
          "data": {
            "text/plain": [
              "<Figure size 432x288 with 1 Axes>"
            ],
            "image/png": "[encoded data removed]"
          },
          "metadata": {
            "needs_background": "light"
          }
        },
        {
          "output_type": "display_data",
          "data": {
            "text/plain": [
              "<Figure size 432x288 with 1 Axes>"
            ],
            "image/png": "[encoded data removed]"
          },
          "metadata": {
            "needs_background": "light"
          }
        }
      ]
    },
    {
      "cell_type": "markdown",
      "source": [
        "W.r.t Depth"
      ],
      "metadata": {
        "id": "6bI3n5arKNTd"
      }
    },
    {
      "cell_type": "code",
      "source": [
        "%matplotlib inline\n",
        "plt.xlabel('Draft(d) m')\n",
        "plt.ylabel('LDT')\n",
        "plt.scatter(dataset.Draft, dataset.LDT,color='red',marker='+')\n",
        "plt.show()\n",
        "\n",
        "plt.xlabel('Draft(d) m')\n",
        "plt.ylabel('GRT')\n",
        "plt.scatter(dataset.Draft, dataset.GRT,color='blue',marker='+')\n",
        "plt.show()\n",
        "\n",
        "plt.xlabel('Draft(d) m')\n",
        "plt.ylabel('BHP')\n",
        "plt.scatter(dataset.Draft, dataset.BHP,color='black',marker='+')\n",
        "plt.show()"
      ],
      "metadata": {
        "id": "Zqubw787KQWT",
        "colab": {
          "base_uri": "https://localhost:8080/",
          "height": 803
        },
        "outputId": "a2077718-f9f4-41be-dd6f-edad03664669"
      },
      "execution_count": 59,
      "outputs": [
        {
          "output_type": "display_data",
          "data": {
            "text/plain": [
              "<Figure size 432x288 with 1 Axes>"
            ],
            "image/png": "[encoded data removed]"
          },
          "metadata": {
            "needs_background": "light"
          }
        },
        {
          "output_type": "display_data",
          "data": {
            "text/plain": [
              "<Figure size 432x288 with 1 Axes>"
            ],
            "image/png": "[encoded data removed]"
          },
          "metadata": {
            "needs_background": "light"
          }
        },
        {
          "output_type": "display_data",
          "data": {
            "text/plain": [
              "<Figure size 432x288 with 1 Axes>"
            ],
            "image/png": "[encoded data removed]"
          },
          "metadata": {
            "needs_background": "light"
          }
        }
      ]
    },
    {
      "cell_type": "markdown",
      "source": [
        "#**Split the data into train and test**"
      ],
      "metadata": {
        "id": "ztoe_paf9vBR"
      }
    },
    {
      "cell_type": "code",
      "source": [
        "train_dataset = dataset.sample(frac=0.9, random_state=0)\n",
        "test_dataset = dataset.drop(train_dataset.index)"
      ],
      "metadata": {
        "id": "U3-vYdef9xfy"
      },
      "execution_count": 60,
      "outputs": []
    },
    {
      "cell_type": "markdown",
      "metadata": {
        "id": "VQaAVyaP9hGc"
      },
      "source": [
        "#**Split features from labels**"
      ]
    },
    {
      "cell_type": "code",
      "metadata": {
        "id": "4SwLS1x-VGvE"
      },
      "source": [
        "train_features = train_dataset.iloc[:,0:3]\n",
        "train_labels = train_dataset.iloc[:,3:]\n",
        "\n",
        "test_features = test_dataset.iloc[:,0:3]\n",
        "test_labels = test_dataset.iloc[:,3:]"
      ],
      "execution_count": 61,
      "outputs": []
    },
    {
      "cell_type": "markdown",
      "metadata": {
        "id": "unTwtjbL9mVE"
      },
      "source": [
        "#**Normalization**"
      ]
    },
    {
      "cell_type": "code",
      "metadata": {
        "id": "JlC5ooJrgjQF"
      },
      "source": [
        "normalizer = preprocessing.Normalization(axis=1)\n",
        "normalizer.adapt(np.array(train_features))"
      ],
      "execution_count": 62,
      "outputs": []
    },
    {
      "cell_type": "markdown",
      "source": [
        "# PCA"
      ],
      "metadata": {
        "id": "dWWx-mkQZq6k"
      }
    },
    {
      "cell_type": "code",
      "source": [
        "from sklearn.decomposition import PCA\n",
        "from sklearn.preprocessing import StandardScaler\n",
        "x = StandardScaler().fit_transform(train_features)\n",
        "\n",
        "PCApca = PCA(n_components=3)\n",
        "principalComponents = pca.fit_transform(x)\n",
        "principalDf = pd.DataFrame(data = principalComponents\n",
        "             , columns = ['principal component 1', 'principal component 2', 'principal component 3'])"
      ],
      "metadata": {
        "id": "tsgX32t-ZsNQ",
        "colab": {
          "base_uri": "https://localhost:8080/",
          "height": 238
        },
        "outputId": "7be75f0f-45b7-4b97-f844-8a69cd0c1452"
      },
      "execution_count": 63,
      "outputs": [
        {
          "output_type": "error",
          "ename": "NameError",
          "evalue": "ignored",
          "traceback": [
            "\u001b[0;31m---------------------------------------------------------------------------\u001b[0m",
            "\u001b[0;31mNameError\u001b[0m                                 Traceback (most recent call last)",
            "\u001b[0;32m<ipython-input-63-c237be43253d>\u001b[0m in \u001b[0;36m<module>\u001b[0;34m\u001b[0m\n\u001b[1;32m      4\u001b[0m \u001b[0;34m\u001b[0m\u001b[0m\n\u001b[1;32m      5\u001b[0m \u001b[0mPCApca\u001b[0m \u001b[0;34m=\u001b[0m \u001b[0mPCA\u001b[0m\u001b[0;34m(\u001b[0m\u001b[0mn_components\u001b[0m\u001b[0;34m=\u001b[0m\u001b[0;36m3\u001b[0m\u001b[0;34m)\u001b[0m\u001b[0;34m\u001b[0m\u001b[0;34m\u001b[0m\u001b[0m\n\u001b[0;32m----> 6\u001b[0;31m \u001b[0mprincipalComponents\u001b[0m \u001b[0;34m=\u001b[0m \u001b[0mpca\u001b[0m\u001b[0;34m.\u001b[0m\u001b[0mfit_transform\u001b[0m\u001b[0;34m(\u001b[0m\u001b[0mx\u001b[0m\u001b[0;34m)\u001b[0m\u001b[0;34m\u001b[0m\u001b[0;34m\u001b[0m\u001b[0m\n\u001b[0m\u001b[1;32m      7\u001b[0m principalDf = pd.DataFrame(data = principalComponents\n\u001b[1;32m      8\u001b[0m              , columns = ['principal component 1', 'principal component 2', 'principal component 3'])\n",
            "\u001b[0;31mNameError\u001b[0m: name 'pca' is not defined"
          ]
        }
      ]
    },
    {
      "cell_type": "code",
      "source": [
        "principalDf"
      ],
      "metadata": {
        "id": "BABNjtdhaDr1"
      },
      "execution_count": null,
      "outputs": []
    },
    {
      "cell_type": "code",
      "source": [
        "finalDf = pd.concat([principalDf, test_labels], axis = 1)"
      ],
      "metadata": {
        "id": "nTWobXohbGpJ"
      },
      "execution_count": null,
      "outputs": []
    },
    {
      "cell_type": "code",
      "source": [
        "finalDf"
      ],
      "metadata": {
        "id": "9ev3UXQqbZ2g"
      },
      "execution_count": null,
      "outputs": []
    },
    {
      "cell_type": "code",
      "source": [
        "fig = plt.figure(figsize = (8,8))\n",
        "ax = fig.add_subplot(1,1,1) \n",
        "ax.set_xlabel('Principal Component 1', fontsize = 15)\n",
        "ax.set_ylabel('Principal Component 2', fontsize = 15)\n",
        "ax.set_title('2 component PCA', fontsize = 20)targets = ['Iris-setosa', 'Iris-versicolor', 'Iris-virginica']\n",
        "colors = ['r', 'g', 'b']\n",
        "for target, color in zip(targets,colors):\n",
        "    indicesToKeep = finalDf['target'] == target\n",
        "    ax.scatter(finalDf.loc[indicesToKeep, 'principal component 1']\n",
        "               , finalDf.loc[indicesToKeep, 'principal component 2']\n",
        "               , c = color\n",
        "               , s = 50)\n",
        "ax.legend(targets)\n",
        "ax.grid()"
      ],
      "metadata": {
        "id": "0bE1W-GEa9KR"
      },
      "execution_count": null,
      "outputs": []
    },
    {
      "cell_type": "markdown",
      "metadata": {
        "id": "8GhuHSE4MMwq"
      },
      "source": [
        "# Linear Regression"
      ]
    },
    {
      "cell_type": "code",
      "metadata": {
        "id": "t4Xd82bGZiz_"
      },
      "source": [],
      "execution_count": null,
      "outputs": []
    },
    {
      "cell_type": "code",
      "source": [
        "# linear regression for multioutput regression\n",
        "from sklearn.datasets import make_regression\n",
        "from sklearn.linear_model import LinearRegression\n",
        "\n",
        "train_features, train_labels = make_regression(n_samples=1000, n_features=3, n_informative=5, n_targets=1, random_state=1, noise=0.5)\n",
        "model = LinearRegression()\n",
        "model.fit(train_features, train_labels)\n",
        "yhat = model.predict(test_features)\n",
        "print(yhat)"
      ],
      "metadata": {
        "id": "W7m8ny7pM3mN"
      },
      "execution_count": null,
      "outputs": []
    },
    {
      "cell_type": "code",
      "source": [
        "test_labels"
      ],
      "metadata": {
        "id": "AacxE9eLYexv"
      },
      "execution_count": null,
      "outputs": []
    },
    {
      "cell_type": "code",
      "source": [
        "test_predictions = model.predict(test_features)\n",
        "\n",
        "a = plt.axes(aspect='equal')\n",
        "plt.scatter(test_labels, test_predictions)\n",
        "plt.xlabel('True Values')\n",
        "plt.ylabel('Predictions')\n",
        "limX = [0, 160000]\n",
        "limY = [0, 35000]\n",
        "plt.xlim(limX)\n",
        "plt.ylim(limY)\n",
        "_ = plt.plot(limX, limY)\n"
      ],
      "metadata": {
        "id": "j1uDOcqkNop5"
      },
      "execution_count": null,
      "outputs": []
    },
    {
      "cell_type": "code",
      "source": [
        "from sklearn.metrics import r2_score\n",
        "\n",
        "coefficient_of_dermination = r2_score(test_labels, test_predictions)\n",
        "coefficient_of_dermination"
      ],
      "metadata": {
        "id": "Rk909s1pNy1R"
      },
      "execution_count": null,
      "outputs": []
    },
    {
      "cell_type": "markdown",
      "metadata": {
        "id": "wxODwOZeMFDN"
      },
      "source": [
        " # **Linear Model**"
      ]
    },
    {
      "cell_type": "code",
      "metadata": {
        "id": "_FJgdZ90MS2A"
      },
      "source": [
        "from sklearn.datasets import make_regression\n",
        "from sklearn.neighbors import KNeighborsRegressor\n",
        "\n",
        "train_features, train_labels = make_regression(n_samples=1000, n_features=3, n_informative=5, n_targets=4, random_state=1, noise=0.5)\n",
        "model_2 = KNeighborsRegressor()\n",
        "model_2.fit(train_features, train_labels)\n",
        "yhat = model_2.predict(test_features)\n",
        "print(yhat)"
      ],
      "execution_count": null,
      "outputs": []
    },
    {
      "cell_type": "code",
      "source": [
        "test_predictions = model_2.predict(test_features)\n",
        "\n",
        "a = plt.axes(aspect='equal')\n",
        "plt.scatter(test_labels, test_predictions)\n",
        "plt.xlabel('True Values')\n",
        "plt.ylabel('Predictions')\n",
        "limX = [0, 160000]\n",
        "limY = [0, 35000]\n",
        "plt.xlim(limX)\n",
        "plt.ylim(limY)\n",
        "_ = plt.plot(limX, limY)\n"
      ],
      "metadata": {
        "id": "a6KbAMxWRb9d"
      },
      "execution_count": null,
      "outputs": []
    },
    {
      "cell_type": "code",
      "metadata": {
        "id": "Hjh57XWYMixq"
      },
      "source": [
        "from sklearn.metrics import r2_score\n",
        "\n",
        "coefficient_of_dermination = r2_score(test_labels, yhat)\n",
        "coefficient_of_dermination"
      ],
      "execution_count": null,
      "outputs": []
    },
    {
      "cell_type": "code",
      "metadata": {
        "id": "QvAbA_e3JvzS"
      },
      "source": [],
      "execution_count": null,
      "outputs": []
    },
    {
      "cell_type": "code",
      "metadata": {
        "id": "2KunRnpfJtir"
      },
      "source": [
        "# evaluate multioutput regression model with k-fold cross-validation\n",
        "from numpy import absolute\n",
        "from numpy import mean\n",
        "from numpy import std\n",
        "from sklearn.datasets import make_regression\n",
        "from sklearn.tree import DecisionTreeRegressor\n",
        "from sklearn.model_selection import cross_val_score\n",
        "from sklearn.model_selection import RepeatedKFold\n",
        "\n",
        "train_features, train_labels = make_regression(n_samples=1000, n_features=3, n_informative=5, n_targets=4, random_state=1, noise=0.5)\n",
        "model_2 = KNeighborsRegressor()\n",
        "model_2.fit(train_features, train_labels)\n",
        "yhat = model_2.predict(test_features)\n",
        "print(yhat)\n",
        "\n",
        "# create datasets\n",
        "X, y = make_regression(n_samples=1000, n_features=10, n_informative=5, n_targets=2, random_state=1, noise=0.5)\n",
        "# define model\n",
        "model = DecisionTreeRegressor()\n",
        "# define the evaluation procedure\n",
        "cv = RepeatedKFold(n_splits=10, n_repeats=3, random_state=1)\n",
        "# evaluate the model and collect the scores\n",
        "n_scores = cross_val_score(model, X, y, scoring='neg_mean_absolute_error', cv=cv, n_jobs=-1)\n",
        "# force the scores to be positive\n",
        "n_scores = absolute(n_scores)\n",
        "# summarize performance\n",
        "print('MAE: %.3f (%.3f)' % (mean(n_scores), std(n_scores)))"
      ],
      "execution_count": null,
      "outputs": []
    },
    {
      "cell_type": "code",
      "metadata": {
        "id": "r6LXnhHBMoEs"
      },
      "source": [
        "%%time\n",
        "history = linear_model.fit(\n",
        "    train_features, train_labels, \n",
        "    epochs=100,\n",
        "    # suppress logging\n",
        "    verbose=1,\n",
        "    callbacks=[PlotLossesKeras()],\n",
        "    # Calculate validation results on 20% of the training data\n",
        "    validation_split = 0.2)"
      ],
      "execution_count": null,
      "outputs": []
    },
    {
      "cell_type": "code",
      "metadata": {
        "id": "yjP8LVPmNE-c"
      },
      "source": [
        "def plot_loss(history):\n",
        "  plt.plot(history.history['loss'], label='loss')\n",
        "  plt.plot(history.history['val_loss'], label='val_loss')\n",
        "  plt.ylim([0, 0.9])\n",
        "  plt.xlabel('Epoch')\n",
        "  plt.ylabel('Error')\n",
        "  plt.legend()\n",
        "  plt.grid(True)"
      ],
      "execution_count": null,
      "outputs": []
    },
    {
      "cell_type": "code",
      "metadata": {
        "id": "-SDa7R57N7_s"
      },
      "source": [
        "loss_df = pd.DataFrame(history.history[\"loss\"])\n",
        "loss_df.columns =['Linear']\n",
        "loss_df.to_excel('Linear.xls')"
      ],
      "execution_count": null,
      "outputs": []
    },
    {
      "cell_type": "code",
      "metadata": {
        "id": "9PX4TRYGOGee"
      },
      "source": [
        "val_loss_df = pd.DataFrame(history.history[\"val_loss\"])\n",
        "val_loss_df.columns =['Linear']\n",
        "val_loss_df.to_excel('val_Linear.xls')"
      ],
      "execution_count": null,
      "outputs": []
    },
    {
      "cell_type": "code",
      "metadata": {
        "id": "EPg_tevuMxtL"
      },
      "source": [
        "plot_loss(history)"
      ],
      "execution_count": null,
      "outputs": []
    },
    {
      "cell_type": "code",
      "metadata": {
        "id": "JRu48iFtNZYS"
      },
      "source": [
        "test_results = {}\n",
        "\n",
        "test_results['linear_model'] = linear_model.evaluate(\n",
        "    test_features, test_labels, verbose=1)"
      ],
      "execution_count": null,
      "outputs": []
    },
    {
      "cell_type": "code",
      "metadata": {
        "id": "gZKJCeiUNm0F"
      },
      "source": [
        "pd.DataFrame(test_results, index=['RMSE']).T"
      ],
      "execution_count": null,
      "outputs": []
    },
    {
      "cell_type": "markdown",
      "metadata": {
        "id": "y4ZgeZRd9-tT"
      },
      "source": [
        "#**Model 1**"
      ]
    },
    {
      "cell_type": "code",
      "source": [
        "from keras import backend as K\n",
        "\n",
        "def root_mean_squared_error(y_true, y_pred):\n",
        "        return K.sqrt(K.mean(K.square(y_pred - y_true))) "
      ],
      "metadata": {
        "id": "QZUvdz2kWyDr"
      },
      "execution_count": 64,
      "outputs": []
    },
    {
      "cell_type": "code",
      "metadata": {
        "id": "BrNglwggSh5H"
      },
      "source": [
        "def model_1(norm):\n",
        "  model = keras.Sequential([\n",
        "      norm,\n",
        "      layers.Dense(80, activation='relu'),\n",
        "\n",
        "      layers.Dense(80, activation='relu'),\n",
        "\n",
        "      layers.Dense(80, activation='relu'),\n",
        "\n",
        "      layers.Dense(80, activation='relu'),\n",
        "      layers.Dense(80, activation='relu'),\n",
        "      layers.Dense(80, activation='relu'),\n",
        " \n",
        "      layers.Dense(4)])\n",
        "\n",
        "  # model.compile(loss='mean_squared_error',\n",
        "  #               optimizer=tf.keras.optimizers.Adam(0.001))\n",
        "  \n",
        "  model.compile(optimizer = \"rmsprop\", loss = root_mean_squared_error)\n",
        "  return model"
      ],
      "execution_count": 65,
      "outputs": []
    },
    {
      "cell_type": "code",
      "metadata": {
        "id": "c0mhscXh2k36",
        "colab": {
          "base_uri": "https://localhost:8080/"
        },
        "outputId": "6ed865ed-6270-40cd-d5b0-307e00b771ce"
      },
      "source": [
        "#dnn_model = build_and_compile_model(normalizer)\n",
        "\n",
        "dnn_model_1 = model_1(normalizer)\n",
        "dnn_model_1.summary()"
      ],
      "execution_count": 66,
      "outputs": [
        {
          "output_type": "stream",
          "name": "stdout",
          "text": [
            "Model: \"sequential_1\"\n",
            "_________________________________________________________________\n",
            " Layer (type)                Output Shape              Param #   \n",
            "=================================================================\n",
            " normalization_2 (Normalizat  (None, 3)                7         \n",
            " ion)                                                            \n",
            "                                                                 \n",
            " dense_7 (Dense)             (None, 80)                320       \n",
            "                                                                 \n",
            " dense_8 (Dense)             (None, 80)                6480      \n",
            "                                                                 \n",
            " dense_9 (Dense)             (None, 80)                6480      \n",
            "                                                                 \n",
            " dense_10 (Dense)            (None, 80)                6480      \n",
            "                                                                 \n",
            " dense_11 (Dense)            (None, 80)                6480      \n",
            "                                                                 \n",
            " dense_12 (Dense)            (None, 80)                6480      \n",
            "                                                                 \n",
            " dense_13 (Dense)            (None, 4)                 324       \n",
            "                                                                 \n",
            "=================================================================\n",
            "Total params: 33,051\n",
            "Trainable params: 33,044\n",
            "Non-trainable params: 7\n",
            "_________________________________________________________________\n"
          ]
        }
      ]
    },
    {
      "cell_type": "code",
      "metadata": {
        "id": "CXDENACl2tuW",
        "colab": {
          "base_uri": "https://localhost:8080/",
          "height": 689
        },
        "outputId": "413d74b8-c2c6-4847-8d44-4fee5db0e126"
      },
      "source": [
        "%%time\n",
        "history = dnn_model_1.fit(\n",
        "    train_features, train_labels,\n",
        "    validation_split=0.2,\n",
        "    callbacks=[PlotLossesKeras()],\n",
        "    verbose=1, epochs=200, batch_size = 25)"
      ],
      "execution_count": 67,
      "outputs": [
        {
          "output_type": "display_data",
          "data": {
            "text/plain": [
              "<Figure size 864x576 with 2 Axes>"
            ],
            "image/png": "[encoded data removed]"
          },
          "metadata": {
            "needs_background": "light"
          }
        },
        {
          "output_type": "stream",
          "name": "stdout",
          "text": [
            "Loss\n",
            "\ttraining         \t (min: 11496.250, max: 30649.918, cur: 14342.979)\n",
            "\tvalidation       \t (min: 3996.837, max: 21338.404, cur: 4044.520)\n",
            "\b\b\b\b\b\b\b\b\b\b\b\b\b\b\b\b\b\b\b\b\b\b\b\b\b\b\b\b\b\b\b\b\b\b\b\b\b\b\b\b\b\b\b\b\b\b\b\b\b\b\b\b\b\b\b\b\b\b\b\b\b\b\b\b\b\r9/9 [==============================] - 0s 42ms/step - loss: 14342.9795 - val_loss: 4044.5203\n",
            "CPU times: user 1min 8s, sys: 21.3 s, total: 1min 30s\n",
            "Wall time: 1min 12s\n"
          ]
        }
      ]
    },
    {
      "cell_type": "code",
      "metadata": {
        "id": "Q0y85uvwJpOT"
      },
      "source": [
        "def plot_loss(history):\n",
        "  plt.plot(history.history['loss'], label='loss')\n",
        "  plt.plot(history.history['val_loss'], label='val_loss')\n",
        "  plt.ylim([0, 20000])\n",
        "  plt.xlabel('Epoch')\n",
        "  plt.ylabel('Error')\n",
        "  plt.legend()\n",
        "  plt.grid(True)"
      ],
      "execution_count": 68,
      "outputs": []
    },
    {
      "cell_type": "code",
      "metadata": {
        "id": "yLl3kGqdT-bv"
      },
      "source": [
        "\n",
        "loss_df = pd.DataFrame(history.history[\"loss\"])\n",
        "loss_df.columns =['Model 1']\n",
        "loss_df.to_excel('Model_1.xlsx')"
      ],
      "execution_count": null,
      "outputs": []
    },
    {
      "cell_type": "code",
      "metadata": {
        "id": "BfLOaxzds3T7"
      },
      "source": [
        "val_loss_df = pd.DataFrame(history.history[\"val_loss\"])\n",
        "val_loss_df.columns =['Model 1']\n",
        "val_loss_df.to_excel('val_Model_1.xlsx')"
      ],
      "execution_count": null,
      "outputs": []
    },
    {
      "cell_type": "code",
      "metadata": {
        "id": "-9Dbj0fX23RQ",
        "colab": {
          "base_uri": "https://localhost:8080/",
          "height": 283
        },
        "outputId": "86ac4e28-7f1f-4fc4-e945-e0521e9dcfdb"
      },
      "source": [
        "plot_loss(history)"
      ],
      "execution_count": 69,
      "outputs": [
        {
          "output_type": "display_data",
          "data": {
            "text/plain": [
              "<Figure size 432x288 with 1 Axes>"
            ],
            "image/png": "[encoded data removed]"
          },
          "metadata": {
            "needs_background": "light"
          }
        }
      ]
    },
    {
      "cell_type": "markdown",
      "metadata": {
        "id": "hWoVYS34fJPZ"
      },
      "source": [
        "Collect the results on the test set:"
      ]
    },
    {
      "cell_type": "code",
      "metadata": {
        "id": "Xe7RXH3N3CWU",
        "colab": {
          "base_uri": "https://localhost:8080/",
          "height": 296
        },
        "outputId": "4d753224-f2b8-404c-9f4f-7c64704603b4"
      },
      "source": [
        "test_predictions = dnn_model_1.predict(test_features)\n",
        "\n",
        "a = plt.axes(aspect='equal')\n",
        "plt.scatter(test_labels, test_predictions)\n",
        "plt.xlabel('True Values')\n",
        "plt.ylabel('Predictions')\n",
        "lims = [0, 170000]\n",
        "plt.xlim(lims)\n",
        "plt.ylim(lims)\n",
        "_ = plt.plot(lims, lims)\n"
      ],
      "execution_count": 71,
      "outputs": [
        {
          "output_type": "stream",
          "name": "stdout",
          "text": [
            "1/1 [==============================] - 0s 94ms/step\n"
          ]
        },
        {
          "output_type": "display_data",
          "data": {
            "text/plain": [
              "<Figure size 432x288 with 1 Axes>"
            ],
            "image/png": "[encoded data removed]"
          },
          "metadata": {
            "needs_background": "light"
          }
        }
      ]
    },
    {
      "cell_type": "code",
      "source": [
        "from sklearn.metrics import r2_score\n",
        "\n",
        "coefficient_of_dermination = r2_score(test_labels, test_predictions)\n",
        "coefficient_of_dermination"
      ],
      "metadata": {
        "colab": {
          "base_uri": "https://localhost:8080/"
        },
        "id": "UqODWmmkDnk0",
        "outputId": "118cbd47-f808-446b-ecb3-0b9d6bc310b8"
      },
      "execution_count": 72,
      "outputs": [
        {
          "output_type": "execute_result",
          "data": {
            "text/plain": [
              "0.74700891224418"
            ]
          },
          "metadata": {},
          "execution_count": 72
        }
      ]
    },
    {
      "cell_type": "code",
      "metadata": {
        "id": "4-WwLlmfT-mb"
      },
      "source": [
        "dnn_model_1.save('dnn_model_1')"
      ],
      "execution_count": 73,
      "outputs": []
    },
    {
      "cell_type": "code",
      "metadata": {
        "id": "dyyyj2zVT-mf",
        "colab": {
          "base_uri": "https://localhost:8080/"
        },
        "outputId": "07a58fb3-f303-4093-ee06-bf7fcf649dea"
      },
      "source": [
        "#reloaded = tf.keras.models.load_model('dnn_model_1')\n",
        "\n",
        "test_results = {}\n",
        "\n",
        "test_results['Model 1'] = dnn_model_1.evaluate(test_features, test_labels, verbose=1)"
      ],
      "execution_count": 74,
      "outputs": [
        {
          "output_type": "stream",
          "name": "stdout",
          "text": [
            "1/1 [==============================] - 0s 22ms/step - loss: 6153.0459\n"
          ]
        }
      ]
    },
    {
      "cell_type": "code",
      "metadata": {
        "id": "f_GchJ2tg-2o",
        "colab": {
          "base_uri": "https://localhost:8080/",
          "height": 81
        },
        "outputId": "fd7b89b1-eed9-48b0-bf1f-bd828ec67260"
      },
      "source": [
        "pd.DataFrame(test_results, index=['RMSE']).T"
      ],
      "execution_count": 75,
      "outputs": [
        {
          "output_type": "execute_result",
          "data": {
            "text/plain": [
              "                RMSE\n",
              "Model 1  6153.045898"
            ],
            "text/html": [
              "\n",
              "  <div id=\"df-c13941a9-f433-47c0-b34e-320fc95ad01f\">\n",
              "    <div class=\"colab-df-container\">\n",
              "      <div>\n",
              "<style scoped>\n",
              "    .dataframe tbody tr th:only-of-type {\n",
              "        vertical-align: middle;\n",
              "    }\n",
              "\n",
              "    .dataframe tbody tr th {\n",
              "        vertical-align: top;\n",
              "    }\n",
              "\n",
              "    .dataframe thead th {\n",
              "        text-align: right;\n",
              "    }\n",
              "</style>\n",
              "<table border=\"1\" class=\"dataframe\">\n",
              "  <thead>\n",
              "    <tr style=\"text-align: right;\">\n",
              "      <th></th>\n",
              "      <th>RMSE</th>\n",
              "    </tr>\n",
              "  </thead>\n",
              "  <tbody>\n",
              "    <tr>\n",
              "      <th>Model 1</th>\n",
              "      <td>6153.045898</td>\n",
              "    </tr>\n",
              "  </tbody>\n",
              "</table>\n",
              "</div>\n",
              "      <button class=\"colab-df-convert\" onclick=\"convertToInteractive('df-c13941a9-f433-47c0-b34e-320fc95ad01f')\"\n",
              "              title=\"Convert this dataframe to an interactive table.\"\n",
              "              style=\"display:none;\">\n",
              "        \n",
              "  <svg xmlns=\"http://www.w3.org/2000/svg\" height=\"24px\"viewBox=\"0 0 24 24\"\n",
              "       width=\"24px\">\n",
              "    <path d=\"M0 0h24v24H0V0z\" fill=\"none\"/>\n",
              "    <path d=\"M18.56 5.44l.94 2.06.94-2.06 2.06-.94-2.06-.94-.94-2.06-.94 2.06-2.06.94zm-11 1L8.5 8.5l.94-2.06 2.06-.94-2.06-.94L8.5 2.5l-.94 2.06-2.06.94zm10 10l.94 2.06.94-2.06 2.06-.94-2.06-.94-.94-2.06-.94 2.06-2.06.94z\"/><path d=\"M17.41 7.96l-1.37-1.37c-.4-.4-.92-.59-1.43-.59-.52 0-1.04.2-1.43.59L10.3 9.45l-7.72 7.72c-.78.78-.78 2.05 0 2.83L4 21.41c.39.39.9.59 1.41.59.51 0 1.02-.2 1.41-.59l7.78-7.78 2.81-2.81c.8-.78.8-2.07 0-2.86zM5.41 20L4 18.59l7.72-7.72 1.47 1.35L5.41 20z\"/>\n",
              "  </svg>\n",
              "      </button>\n",
              "      \n",
              "  <style>\n",
              "    .colab-df-container {\n",
              "      display:flex;\n",
              "      flex-wrap:wrap;\n",
              "      gap: 12px;\n",
              "    }\n",
              "\n",
              "    .colab-df-convert {\n",
              "      background-color: #E8F0FE;\n",
              "      border: none;\n",
              "      border-radius: 50%;\n",
              "      cursor: pointer;\n",
              "      display: none;\n",
              "      fill: #1967D2;\n",
              "      height: 32px;\n",
              "      padding: 0 0 0 0;\n",
              "      width: 32px;\n",
              "    }\n",
              "\n",
              "    .colab-df-convert:hover {\n",
              "      background-color: #E2EBFA;\n",
              "      box-shadow: 0px 1px 2px rgba(60, 64, 67, 0.3), 0px 1px 3px 1px rgba(60, 64, 67, 0.15);\n",
              "      fill: #174EA6;\n",
              "    }\n",
              "\n",
              "    [theme=dark] .colab-df-convert {\n",
              "      background-color: #3B4455;\n",
              "      fill: #D2E3FC;\n",
              "    }\n",
              "\n",
              "    [theme=dark] .colab-df-convert:hover {\n",
              "      background-color: #434B5C;\n",
              "      box-shadow: 0px 1px 3px 1px rgba(0, 0, 0, 0.15);\n",
              "      filter: drop-shadow(0px 1px 2px rgba(0, 0, 0, 0.3));\n",
              "      fill: #FFFFFF;\n",
              "    }\n",
              "  </style>\n",
              "\n",
              "      <script>\n",
              "        const buttonEl =\n",
              "          document.querySelector('#df-c13941a9-f433-47c0-b34e-320fc95ad01f button.colab-df-convert');\n",
              "        buttonEl.style.display =\n",
              "          google.colab.kernel.accessAllowed ? 'block' : 'none';\n",
              "\n",
              "        async function convertToInteractive(key) {\n",
              "          const element = document.querySelector('#df-c13941a9-f433-47c0-b34e-320fc95ad01f');\n",
              "          const dataTable =\n",
              "            await google.colab.kernel.invokeFunction('convertToInteractive',\n",
              "                                                     [key], {});\n",
              "          if (!dataTable) return;\n",
              "\n",
              "          const docLinkHtml = 'Like what you see? Visit the ' +\n",
              "            '<a target=\"_blank\" href=https://colab.research.google.com/notebooks/data_table.ipynb>data table notebook</a>'\n",
              "            + ' to learn more about interactive tables.';\n",
              "          element.innerHTML = '';\n",
              "          dataTable['output_type'] = 'display_data';\n",
              "          await google.colab.output.renderOutput(dataTable, element);\n",
              "          const docLink = document.createElement('div');\n",
              "          docLink.innerHTML = docLinkHtml;\n",
              "          element.appendChild(docLink);\n",
              "        }\n",
              "      </script>\n",
              "    </div>\n",
              "  </div>\n",
              "  "
            ]
          },
          "metadata": {},
          "execution_count": 75
        }
      ]
    },
    {
      "cell_type": "markdown",
      "metadata": {
        "id": "CBSvjsZdOCIM"
      },
      "source": [
        "#**Model 2**"
      ]
    },
    {
      "cell_type": "code",
      "metadata": {
        "id": "b2g4y3jdOHOA"
      },
      "source": [
        "def model_2(norm):\n",
        "  model = keras.Sequential([\n",
        "      norm,\n",
        "      layers.Dense(128, activation='relu'),\n",
        "\n",
        "      layers.Dense(128, activation='relu'),\n",
        "\n",
        "      layers.Dense(128, activation='relu'),\n",
        "\n",
        "      layers.Dense(128, activation='relu'),\n",
        "      layers.Dense(128, activation='relu'),\n",
        "      layers.Dense(128, activation='relu'),\n",
        "\n",
        "      layers.Dense(1)])\n",
        "\n",
        "  # model.compile(loss='mean_squared_error',\n",
        "  #               optimizer=tf.keras.optimizers.Adam(0.001))\n",
        "  \n",
        "  model.compile(optimizer = \"rmsprop\", loss = root_mean_squared_error)\n",
        "  return model"
      ],
      "execution_count": null,
      "outputs": []
    },
    {
      "cell_type": "code",
      "metadata": {
        "id": "8TB1ZkMtOHdc"
      },
      "source": [
        "#dnn_model = build_and_compile_model(normalizer)\n",
        "\n",
        "dnn_model_2 = model_2(normalizer)\n",
        "dnn_model_2.summary()"
      ],
      "execution_count": null,
      "outputs": []
    },
    {
      "cell_type": "code",
      "metadata": {
        "id": "ZnkjOBPGOHp0"
      },
      "source": [
        "%%time\n",
        "history = dnn_model_2.fit(\n",
        "    train_features, train_labels,\n",
        "    validation_split=0.2,\n",
        "    callbacks=[PlotLossesKeras()],\n",
        "    verbose=1, epochs=400, batch_size = 25)"
      ],
      "execution_count": null,
      "outputs": []
    },
    {
      "cell_type": "code",
      "metadata": {
        "id": "nXZKOtwxOHti"
      },
      "source": [
        "def plot_loss(history):\n",
        "  plt.plot(history.history['loss'], label='loss')\n",
        "  plt.plot(history.history['val_loss'], label='val_loss')\n",
        "  plt.ylim([0, 0.4])\n",
        "  plt.xlabel('Epoch')\n",
        "  plt.ylabel('RMSE')\n",
        "  plt.legend()\n",
        "  plt.grid(True)"
      ],
      "execution_count": null,
      "outputs": []
    },
    {
      "cell_type": "code",
      "metadata": {
        "id": "OlXTBcwcXfOa"
      },
      "source": [
        "loss_df = pd.DataFrame(history.history[\"loss\"])\n",
        "loss_df.columns =['Model 2']\n",
        "loss_df.to_excel('Model_2.xlsx')"
      ],
      "execution_count": null,
      "outputs": []
    },
    {
      "cell_type": "code",
      "metadata": {
        "id": "QoXkzPq_tApU"
      },
      "source": [
        "val_loss_df = pd.DataFrame(history.history[\"val_loss\"])\n",
        "val_loss_df.columns =['Model 2']\n",
        "val_loss_df.to_excel('val_Model_2.xlsx')"
      ],
      "execution_count": null,
      "outputs": []
    },
    {
      "cell_type": "code",
      "metadata": {
        "id": "g4P5PvRaOZRh"
      },
      "source": [
        "plot_loss(history)"
      ],
      "execution_count": null,
      "outputs": []
    },
    {
      "cell_type": "code",
      "metadata": {
        "id": "2_O3aJFZOcd5"
      },
      "source": [
        "test_predictions = dnn_model_2.predict(test_features).flatten()\n",
        "\n",
        "a = plt.axes(aspect='equal')\n",
        "plt.scatter(test_labels, test_predictions)\n",
        "plt.xlabel('True Values')\n",
        "plt.ylabel('Predictions')\n",
        "lims = [0, 2]\n",
        "plt.xlim(lims)\n",
        "plt.ylim(lims)\n",
        "_ = plt.plot(lims, lims)\n"
      ],
      "execution_count": null,
      "outputs": []
    },
    {
      "cell_type": "code",
      "metadata": {
        "id": "XCa3MAedOgAc"
      },
      "source": [
        "# error = test_predictions - test_labels\n",
        "# plt.hist(error, bins=25)\n",
        "# plt.xlabel('Prediction Error')\n",
        "# _ = plt.ylabel('Count')"
      ],
      "execution_count": null,
      "outputs": []
    },
    {
      "cell_type": "code",
      "metadata": {
        "id": "E8Ya3DhDOjTX"
      },
      "source": [
        "dnn_model_2.save('dnn_model_2')"
      ],
      "execution_count": null,
      "outputs": []
    },
    {
      "cell_type": "code",
      "metadata": {
        "id": "v_ohuW4sOmZz"
      },
      "source": [
        "# reloaded = tf.keras.models.load_model('dnn_model_2')\n",
        "\n",
        "\n",
        "test_results['Model 2'] = dnn_model_2.evaluate(test_features, test_labels, verbose=1)"
      ],
      "execution_count": null,
      "outputs": []
    },
    {
      "cell_type": "code",
      "metadata": {
        "id": "bkxX_LqROp9_"
      },
      "source": [
        "pd.DataFrame(test_results, index=['RMSE']).T"
      ],
      "execution_count": null,
      "outputs": []
    },
    {
      "cell_type": "markdown",
      "metadata": {
        "id": "CO0GGNAtF9j5"
      },
      "source": [
        "# **Model 3**"
      ]
    },
    {
      "cell_type": "code",
      "metadata": {
        "id": "PjB8tMCZGHMB"
      },
      "source": [
        "def model_3(norm):\n",
        "  model = keras.Sequential([\n",
        "      norm,\n",
        "      layers.Dense(64, activation='relu'),\n",
        "\n",
        "      layers.Dense(64, activation='relu'),\n",
        "\n",
        "      layers.Dense(64, activation='relu'),\n",
        "\n",
        "      layers.Dense(64, activation='relu'),\n",
        "      layers.Dense(64, activation='relu'),\n",
        " \n",
        "      layers.Dense(1)])\n",
        "\n",
        "  # model.compile(loss='mean_squared_error',\n",
        "  #               optimizer=tf.keras.optimizers.Adam(0.001))\n",
        "  \n",
        "  model.compile(optimizer = \"rmsprop\", loss = root_mean_squared_error)\n",
        "  return model"
      ],
      "execution_count": null,
      "outputs": []
    },
    {
      "cell_type": "code",
      "metadata": {
        "id": "OE6DcDVlGHPi"
      },
      "source": [
        "#dnn_model = build_and_compile_model(normalizer)\n",
        "\n",
        "dnn_model_3 = model_3(normalizer)\n",
        "dnn_model_3.summary()"
      ],
      "execution_count": null,
      "outputs": []
    },
    {
      "cell_type": "code",
      "metadata": {
        "id": "HRvv63MZGHSY"
      },
      "source": [
        "%%time\n",
        "history = dnn_model_3.fit(\n",
        "    train_features, train_labels,\n",
        "    validation_split=0.2,\n",
        "    callbacks=[PlotLossesKeras()],\n",
        "    verbose=1, epochs=300, batch_size = 25)"
      ],
      "execution_count": null,
      "outputs": []
    },
    {
      "cell_type": "code",
      "metadata": {
        "id": "9bcKvye_GHVa"
      },
      "source": [
        "def plot_loss(history):\n",
        "  plt.plot(history.history['loss'], label='loss')\n",
        "  plt.plot(history.history['val_loss'], label='val_loss')\n",
        "  plt.ylim([0, 0.3])\n",
        "  plt.xlabel('Epoch')\n",
        "  plt.ylabel('RMSE')\n",
        "  plt.legend()\n",
        "  plt.grid(True)"
      ],
      "execution_count": null,
      "outputs": []
    },
    {
      "cell_type": "code",
      "metadata": {
        "id": "NE1Y3ruddna7"
      },
      "source": [
        "loss_df = pd.DataFrame(history.history[\"loss\"])\n",
        "loss_df.columns =['Model 3']\n",
        "loss_df.to_excel('Model_3.xlsx')"
      ],
      "execution_count": null,
      "outputs": []
    },
    {
      "cell_type": "code",
      "metadata": {
        "id": "iNlyFthmtEVp"
      },
      "source": [
        "val_loss_df = pd.DataFrame(history.history[\"val_loss\"])\n",
        "val_loss_df.columns =['Model 3']\n",
        "val_loss_df.to_excel('val_Model_3.xlsx')"
      ],
      "execution_count": null,
      "outputs": []
    },
    {
      "cell_type": "code",
      "metadata": {
        "id": "lSbNzsS9GHYH"
      },
      "source": [
        "plot_loss(history)"
      ],
      "execution_count": null,
      "outputs": []
    },
    {
      "cell_type": "code",
      "metadata": {
        "id": "iy1fcpO5GHas"
      },
      "source": [
        "test_predictions = dnn_model_3.predict(test_features).flatten()\n",
        "\n",
        "a = plt.axes(aspect='equal')\n",
        "plt.scatter(test_labels, test_predictions)\n",
        "plt.xlabel('True Values')\n",
        "plt.ylabel('Predictions')\n",
        "lims = [0, 2]\n",
        "plt.xlim(lims)\n",
        "plt.ylim(lims)\n",
        "_ = plt.plot(lims, lims)\n"
      ],
      "execution_count": null,
      "outputs": []
    },
    {
      "cell_type": "code",
      "metadata": {
        "id": "oNU1oTBMGep8"
      },
      "source": [
        "# error = test_predictions - Cl_test_labels\n",
        "# plt.hist(error, bins=25)\n",
        "# plt.xlabel('Prediction Error')\n",
        "# _ = plt.ylabel('Count')"
      ],
      "execution_count": null,
      "outputs": []
    },
    {
      "cell_type": "code",
      "metadata": {
        "id": "nTPIBBDQGiHO"
      },
      "source": [
        "dnn_model_3.save('dnn_model_3')"
      ],
      "execution_count": null,
      "outputs": []
    },
    {
      "cell_type": "code",
      "metadata": {
        "id": "KlYghSf3GlPa"
      },
      "source": [
        "#reloaded = tf.keras.models.load_model('dnn_model_3')\n",
        "\n",
        "\n",
        "test_results['Model 3'] = dnn_model_3.evaluate(test_features, test_labels, verbose=1)"
      ],
      "execution_count": null,
      "outputs": []
    },
    {
      "cell_type": "code",
      "metadata": {
        "id": "Ul_Y9A3LGoPK"
      },
      "source": [
        "pd.DataFrame(test_results, index=['RMSE']).T"
      ],
      "execution_count": null,
      "outputs": []
    },
    {
      "cell_type": "markdown",
      "metadata": {
        "id": "Ag74I6L8nX86"
      },
      "source": [
        "#**Model 4**"
      ]
    },
    {
      "cell_type": "code",
      "metadata": {
        "id": "_Ez4i8zMe5i8"
      },
      "source": [
        "def model_4(norm):\n",
        "  model = keras.Sequential([\n",
        "      norm,\n",
        "\n",
        "\n",
        "      layers.Dense(128, activation='relu'),\n",
        "      layers.Dense(128, activation='relu'),\n",
        "      layers.Dense(128, activation='relu'),\n",
        "      layers.Dense(256, activation='relu'),\n",
        "\n",
        "      layers.Dense(256, activation='relu'),\n",
        "\n",
        "      layers.Dense(256, activation='relu'),\n",
        "\n",
        "      layers.Dense(1)])\n",
        "\n",
        "  # model.compile(loss='mean_squared_error',\n",
        "  #               optimizer=tf.keras.optimizers.Adam(0.001))\n",
        "  \n",
        "  model.compile(optimizer = \"rmsprop\", loss = root_mean_squared_error)\n",
        "  return model"
      ],
      "execution_count": null,
      "outputs": []
    },
    {
      "cell_type": "code",
      "metadata": {
        "id": "Nb96dyfKnj4c"
      },
      "source": [
        "#dnn_model = build_and_compile_model(normalizer)\n",
        "\n",
        "dnn_model_4 = model_4(normalizer)\n",
        "dnn_model_4.summary()"
      ],
      "execution_count": null,
      "outputs": []
    },
    {
      "cell_type": "code",
      "metadata": {
        "id": "mV65EmpDnnrp"
      },
      "source": [
        "%%time\n",
        "history = dnn_model_4.fit(\n",
        "    train_features, train_labels,\n",
        "    validation_split=0.2,\n",
        "    callbacks=[PlotLossesKeras()],\n",
        "    verbose=1, epochs=300, batch_size = 25)"
      ],
      "execution_count": null,
      "outputs": []
    },
    {
      "cell_type": "code",
      "metadata": {
        "id": "_hs_qhGwnxLc"
      },
      "source": [
        "def plot_loss(history):\n",
        "  plt.plot(history.history['loss'], label='loss')\n",
        "  plt.plot(history.history['val_loss'], label='val_loss')\n",
        "  plt.ylim([0, 0.3])\n",
        "  plt.xlabel('Epoch')\n",
        "  plt.ylabel('RMSE')\n",
        "  plt.legend()\n",
        "  plt.grid(True)"
      ],
      "execution_count": null,
      "outputs": []
    },
    {
      "cell_type": "code",
      "metadata": {
        "id": "-WSMmEMBn0dX"
      },
      "source": [
        "loss_df = pd.DataFrame(history.history[\"loss\"])\n",
        "loss_df.columns =['Model 4']\n",
        "loss_df.to_excel('Model_4.xlsx')"
      ],
      "execution_count": null,
      "outputs": []
    },
    {
      "cell_type": "code",
      "metadata": {
        "id": "70xBx9octIog"
      },
      "source": [
        "val_loss_df = pd.DataFrame(history.history[\"val_loss\"])\n",
        "val_loss_df.columns =['Model 4']\n",
        "val_loss_df.to_excel('val_Model_4.xlsx')"
      ],
      "execution_count": null,
      "outputs": []
    },
    {
      "cell_type": "code",
      "metadata": {
        "id": "exmF3lgjn6S0"
      },
      "source": [
        "plot_loss(history)"
      ],
      "execution_count": null,
      "outputs": []
    },
    {
      "cell_type": "code",
      "metadata": {
        "id": "U3uVcfU1n-Vj"
      },
      "source": [
        "test_predictions = dnn_model_4.predict(test_features).flatten()\n",
        "\n",
        "a = plt.axes(aspect='equal')\n",
        "plt.scatter(test_labels, test_predictions)\n",
        "plt.xlabel('True Values')\n",
        "plt.ylabel('Predictions')\n",
        "lims = [0, 2]\n",
        "plt.xlim(lims)\n",
        "plt.ylim(lims)\n",
        "_ = plt.plot(lims, lims)\n"
      ],
      "execution_count": null,
      "outputs": []
    },
    {
      "cell_type": "code",
      "metadata": {
        "id": "s6Q1KdXOoCJ_"
      },
      "source": [
        "# error = test_predictions - Cl_test_labels\n",
        "# plt.hist(error, bins=25)\n",
        "# plt.xlabel('Prediction Error')\n",
        "# _ = plt.ylabel('Count')"
      ],
      "execution_count": null,
      "outputs": []
    },
    {
      "cell_type": "code",
      "metadata": {
        "id": "ZT0w6Z6VoFpS"
      },
      "source": [
        "dnn_model_4.save('dnn_model_4')"
      ],
      "execution_count": null,
      "outputs": []
    },
    {
      "cell_type": "code",
      "metadata": {
        "id": "PsKJ95XwoJrD"
      },
      "source": [
        "#reloaded = tf.keras.models.load_model('dnn_model_4')\n",
        "\n",
        "\n",
        "test_results['Model 4'] = dnn_model_4.evaluate(test_features, test_labels, verbose=1)"
      ],
      "execution_count": null,
      "outputs": []
    },
    {
      "cell_type": "code",
      "metadata": {
        "id": "qolVNOCQoMmi"
      },
      "source": [
        "pd.DataFrame(test_results, index=['RMSE']).T"
      ],
      "execution_count": null,
      "outputs": []
    },
    {
      "cell_type": "markdown",
      "metadata": {
        "id": "UJDqyRJ_Cy1k"
      },
      "source": [
        "#**Model 5**"
      ]
    },
    {
      "cell_type": "code",
      "metadata": {
        "id": "zMDx2r5FC4OJ"
      },
      "source": [
        "def model_5(norm):\n",
        "  model = keras.Sequential([\n",
        "      norm,\n",
        "      layers.Dense(256, activation='relu'),\n",
        "\n",
        "      layers.Dense(256, activation='relu'),\n",
        "\n",
        "      layers.Dense(256, activation='relu'),\n",
        "\n",
        "      layers.Dense(256, activation='relu'),\n",
        "      layers.Dense(256, activation='relu'),\n",
        "      # layers.Dense(128, activation='relu'),\n",
        "\n",
        "      layers.Dense(1)])\n",
        "\n",
        "  # model.compile(loss='mean_squared_error',\n",
        "  #               optimizer=tf.keras.optimizers.Adam(0.001))\n",
        "  \n",
        "  model.compile(optimizer = \"rmsprop\", loss = root_mean_squared_error)\n",
        "  return model"
      ],
      "execution_count": null,
      "outputs": []
    },
    {
      "cell_type": "code",
      "metadata": {
        "id": "QAhb3vpIC84e"
      },
      "source": [
        "#dnn_model = build_and_compile_model(normalizer)\n",
        "\n",
        "dnn_model_5 = model_5(normalizer)\n",
        "dnn_model_5.summary()"
      ],
      "execution_count": null,
      "outputs": []
    },
    {
      "cell_type": "code",
      "metadata": {
        "id": "cFvXBiMwDA0a"
      },
      "source": [
        "%%time\n",
        "history = dnn_model_5.fit(\n",
        "    train_features, train_labels,\n",
        "    validation_split=0.2,\n",
        "    callbacks=[PlotLossesKeras()],\n",
        "    verbose=1, epochs=300, batch_size = 25)"
      ],
      "execution_count": null,
      "outputs": []
    },
    {
      "cell_type": "code",
      "metadata": {
        "id": "BP_DdIcwDLp5"
      },
      "source": [
        "def plot_loss(history):\n",
        "  plt.plot(history.history['loss'], label='loss')\n",
        "  plt.plot(history.history['val_loss'], label='val_loss')\n",
        "  plt.ylim([0, 0.3])\n",
        "  plt.xlabel('Epoch')\n",
        "  plt.ylabel('RMSE')\n",
        "  plt.legend()\n",
        "  plt.grid(True)"
      ],
      "execution_count": null,
      "outputs": []
    },
    {
      "cell_type": "code",
      "metadata": {
        "id": "v7ConB4_DPiJ"
      },
      "source": [
        "loss_df = pd.DataFrame(history.history[\"loss\"])\n",
        "loss_df.columns =['Model 5']\n",
        "loss_df.to_excel('Model_5.xlsx')"
      ],
      "execution_count": null,
      "outputs": []
    },
    {
      "cell_type": "code",
      "metadata": {
        "id": "FMKnUkhwtMxG"
      },
      "source": [
        "val_loss_df = pd.DataFrame(history.history[\"val_loss\"])\n",
        "val_loss_df.columns =['Model 5']\n",
        "val_loss_df.to_excel('val_Model_5.xlsx')"
      ],
      "execution_count": null,
      "outputs": []
    },
    {
      "cell_type": "code",
      "metadata": {
        "id": "EIcuq2VMDVBf"
      },
      "source": [
        "plot_loss(history)"
      ],
      "execution_count": null,
      "outputs": []
    },
    {
      "cell_type": "code",
      "metadata": {
        "id": "rtxl2PPxDYkN"
      },
      "source": [
        "test_predictions = dnn_model_5.predict(test_features).flatten()\n",
        "\n",
        "a = plt.axes(aspect='equal')\n",
        "plt.scatter(test_labels, test_predictions)\n",
        "plt.xlabel('True Values')\n",
        "plt.ylabel('Predictions')\n",
        "lims = [0, 2]\n",
        "plt.xlim(lims)\n",
        "plt.ylim(lims)\n",
        "_ = plt.plot(lims, lims)\n"
      ],
      "execution_count": null,
      "outputs": []
    },
    {
      "cell_type": "code",
      "metadata": {
        "id": "vyXMvVgUDb2m"
      },
      "source": [
        "# error = test_predictions - Cl_test_labels\n",
        "# plt.hist(error, bins=25)\n",
        "# plt.xlabel('Prediction Error')\n",
        "# _ = plt.ylabel('Count')"
      ],
      "execution_count": null,
      "outputs": []
    },
    {
      "cell_type": "code",
      "metadata": {
        "id": "t92qKgFTDfUB"
      },
      "source": [
        "dnn_model_5.save('dnn_model_5')"
      ],
      "execution_count": null,
      "outputs": []
    },
    {
      "cell_type": "code",
      "metadata": {
        "id": "nSZJdtaQDilv"
      },
      "source": [
        "#reloaded = tf.keras.models.load_model('dnn_model_5')\n",
        "\n",
        "\n",
        "test_results['Model 5'] = dnn_model_5.evaluate(test_features, test_labels, verbose=1)"
      ],
      "execution_count": null,
      "outputs": []
    },
    {
      "cell_type": "code",
      "metadata": {
        "id": "tm06e19PDl62"
      },
      "source": [
        "pd.DataFrame(test_results, index=['RMSE']).T"
      ],
      "execution_count": null,
      "outputs": []
    },
    {
      "cell_type": "markdown",
      "metadata": {
        "id": "NuXlXIf2MjvF"
      },
      "source": [
        "#**Loss DataFrame**"
      ]
    },
    {
      "cell_type": "code",
      "metadata": {
        "id": "uW__IZtoMpVu"
      },
      "source": [
        "d1 = pd.read_excel('/content/Model_1.xlsx', index_col = 0)\n",
        "d2 = pd.read_excel('/content/Model_2.xlsx', index_col = 0)\n",
        "d3 = pd.read_excel('/content/Model_3.xlsx', index_col = 0)\n",
        "d4 = pd.read_excel('/content/Model_4.xlsx', index_col = 0)\n",
        "d5 = pd.read_excel('/content/Model_5.xlsx', index_col = 0)"
      ],
      "execution_count": null,
      "outputs": []
    },
    {
      "cell_type": "code",
      "metadata": {
        "id": "hDsatCL2NRPg"
      },
      "source": [
        "l = pd.concat([d1, d2, d3, d4, d5],axis=1)"
      ],
      "execution_count": null,
      "outputs": []
    },
    {
      "cell_type": "code",
      "metadata": {
        "id": "U-_mv2kPNadg"
      },
      "source": [
        "l.to_excel(\"loss.xls\")"
      ],
      "execution_count": null,
      "outputs": []
    },
    {
      "cell_type": "code",
      "metadata": {
        "id": "J0J3_sf6tRvM"
      },
      "source": [
        "d1 = pd.read_excel('/content/val_Model_1.xlsx', index_col = 0)\n",
        "d2 = pd.read_excel('/content/val_Model_2.xlsx', index_col = 0)\n",
        "d3 = pd.read_excel('/content/val_Model_3.xlsx', index_col = 0)\n",
        "d4 = pd.read_excel('/content/val_Model_4.xlsx', index_col = 0)\n",
        "d5 = pd.read_excel('/content/val_Model_5.xlsx', index_col = 0)"
      ],
      "execution_count": null,
      "outputs": []
    },
    {
      "cell_type": "code",
      "metadata": {
        "id": "5L2E0BmmtYrD"
      },
      "source": [
        "l = pd.concat([d1, d2, d3, d4, d5],axis=1)"
      ],
      "execution_count": null,
      "outputs": []
    },
    {
      "cell_type": "code",
      "metadata": {
        "id": "zb_L6ixYtaIU"
      },
      "source": [
        "l.to_excel(\"val_loss.xls\")"
      ],
      "execution_count": null,
      "outputs": []
    },
    {
      "cell_type": "markdown",
      "metadata": {
        "id": "vgGQuV-yqYZH"
      },
      "source": [
        "# Validation"
      ]
    },
    {
      "cell_type": "code",
      "metadata": {
        "id": "xQXbKXb0ataw"
      },
      "source": [
        "exp = pd.read_excel('/content/pca_16k.xlsx')\n",
        "exp.head(42)"
      ],
      "execution_count": null,
      "outputs": []
    },
    {
      "cell_type": "code",
      "metadata": {
        "id": "djO3qgWyaxcT"
      },
      "source": [
        "#test_predictions = dnn_model_1.predict(exp.iloc[:,0:2]).flatten()\n",
        "test_predictions = dnn_model_5.predict(exp.iloc[:,0:4])\n",
        "test_predictions\n",
        "a = plt.axes(aspect='equal')\n",
        "plt.scatter(exp.iloc[:,4], test_predictions)\n",
        "plt.xlabel('True Values')\n",
        "plt.ylabel('Predictions')\n",
        "lims = [0.08, 1.1]\n",
        "plt.xlim(lims)\n",
        "plt.ylim(lims)\n",
        "_ = plt.plot(lims, lims)\n",
        "dnn_model_5.evaluate(exp.iloc[:,0:4], exp.iloc[:,4], verbose=1)"
      ],
      "execution_count": null,
      "outputs": []
    },
    {
      "cell_type": "code",
      "metadata": {
        "id": "1Rag_jYlbXE2"
      },
      "source": [
        "predcl = pd.DataFrame(test_predictions)\n",
        "predcl.head()\n",
        "adding = exp.iloc[:,0:4]\n",
        "adding"
      ],
      "execution_count": null,
      "outputs": []
    },
    {
      "cell_type": "code",
      "metadata": {
        "id": "1EjEFvETGkvG"
      },
      "source": [
        "adding['pred_cl'] = predcl.iloc[:,0:3].values"
      ],
      "execution_count": null,
      "outputs": []
    },
    {
      "cell_type": "code",
      "metadata": {
        "id": "EjwHPleUICDW"
      },
      "source": [
        "adding.head(16)"
      ],
      "execution_count": null,
      "outputs": []
    },
    {
      "cell_type": "code",
      "metadata": {
        "id": "rzfW4vEDJyWe"
      },
      "source": [
        "# adding['abs_cl'] = adding.apply(\n",
        "#     lambda row: abs(row.actual_cl - row.pred_cl), axis=1)"
      ],
      "execution_count": null,
      "outputs": []
    },
    {
      "cell_type": "code",
      "metadata": {
        "id": "LaRK3UjdMBka"
      },
      "source": [
        "# adding['abs_cd'] = adding.apply(\n",
        "#     lambda row: abs(row.CD - row.pred_cd), axis=1)"
      ],
      "execution_count": null,
      "outputs": []
    },
    {
      "cell_type": "code",
      "metadata": {
        "id": "4WDhri9ENjOu"
      },
      "source": [
        "# adding_sorted_cl= adding.sort_values(['abs_cl'])"
      ],
      "execution_count": null,
      "outputs": []
    },
    {
      "cell_type": "code",
      "metadata": {
        "id": "klHCeqUANsf4"
      },
      "source": [
        "#adding_sorted_cl.drop(['pred_cd', 'abs_cl','abs_cd'], axis=1, inplace=True)\n",
        "# adding_sorted_cl"
      ],
      "execution_count": null,
      "outputs": []
    },
    {
      "cell_type": "code",
      "metadata": {
        "id": "qBayXk8ASJ0a"
      },
      "source": [
        "# adding_sorted_cd= adding.sort_values(['abs_cd'])\n",
        "# adding_sorted_cd.head(20)"
      ],
      "execution_count": null,
      "outputs": []
    },
    {
      "cell_type": "code",
      "metadata": {
        "id": "McpMbYPWoY89"
      },
      "source": [
        "adding.to_excel('ml_cl_model2.xls')"
      ],
      "execution_count": null,
      "outputs": []
    },
    {
      "cell_type": "markdown",
      "metadata": {
        "id": "2CMM3w6iEOcz"
      },
      "source": [
        "NACA - 0012"
      ]
    },
    {
      "cell_type": "code",
      "metadata": {
        "id": "t6sfsLosKvGg"
      },
      "source": [
        "plt.scatter(adding.iloc[0:16,2], adding.iloc[0:16,3])\n",
        "plt.scatter(adding.iloc[0:16,2], adding.iloc[0:16,4])"
      ],
      "execution_count": null,
      "outputs": []
    },
    {
      "cell_type": "markdown",
      "metadata": {
        "id": "CpUI8WMUEV_a"
      },
      "source": [
        "NACA - 0015"
      ]
    },
    {
      "cell_type": "code",
      "metadata": {
        "id": "L4-fwLCZMlLX"
      },
      "source": [
        "plt.scatter(adding.iloc[17:32,2], adding.iloc[17:32,3])\n",
        "plt.scatter(adding.iloc[17:32,2], adding.iloc[17:32,4])"
      ],
      "execution_count": null,
      "outputs": []
    },
    {
      "cell_type": "markdown",
      "metadata": {
        "id": "unXK-2lY-Nho"
      },
      "source": [
        "NACA - 0018"
      ]
    },
    {
      "cell_type": "code",
      "metadata": {
        "id": "kkga99QEEdvv"
      },
      "source": [
        "plt.scatter(adding.iloc[33:49,2], adding.iloc[33:49,3])\n",
        "plt.scatter(adding.iloc[33:49,2], adding.iloc[33:49,4])"
      ],
      "execution_count": null,
      "outputs": []
    },
    {
      "cell_type": "code",
      "source": [],
      "metadata": {
        "id": "txhgJoegk-YK"
      },
      "execution_count": null,
      "outputs": []
    }
  ]
}